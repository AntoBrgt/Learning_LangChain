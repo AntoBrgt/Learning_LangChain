{
 "cells": [
  {
   "cell_type": "code",
   "execution_count": null,
   "id": "a22246fd",
   "metadata": {},
   "outputs": [],
   "source": [
    "from langchain_ollama import ChatOllama\n",
    "\n",
    "llm = ChatOllama(\n",
    "    model = \"gemma3\",\n",
    "    temperature = 0.8,\n",
    "    num_predict = 20,\n",
    ")"
   ]
  },
  {
   "cell_type": "code",
   "execution_count": 8,
   "id": "cad6dc83",
   "metadata": {},
   "outputs": [
    {
     "data": {
      "text/plain": [
       "AIMessage(content='Here are a few options for translating \"I love programming\" into French, with slightly different nuances:\\n\\n*   **J\\'adore la programmation.** (This is the most common and direct translation - \"I love programming\")\\n*   **J\\'aime la programmation.** (This is a more general \"I like programming\")\\n*   **Je suis passionné(e) par la programmation.** (This means \"I am passionate about programming.\" - Use \"passionnée\" if you are female.)\\n\\nI recommend **J\\'adore la programmation.** as the closest and most natural translation.\\n\\nWould you like me to provide any further context or variations?', additional_kwargs={}, response_metadata={'model': 'gemma3', 'created_at': '2025-07-29T13:02:41.3252221Z', 'done': True, 'done_reason': 'stop', 'total_duration': 25666990100, 'load_duration': 234225100, 'prompt_eval_count': 31, 'prompt_eval_duration': 2344638100, 'eval_count': 138, 'eval_duration': 23028044600, 'model_name': 'gemma3'}, id='run--e69d38d1-6c46-43f0-88ea-bf19cdc1c2f7-0', usage_metadata={'input_tokens': 31, 'output_tokens': 138, 'total_tokens': 169})"
      ]
     },
     "execution_count": 8,
     "metadata": {},
     "output_type": "execute_result"
    }
   ],
   "source": [
    "messages = [\n",
    "    (\"system\", \"You are a helpful translator. Translate the user sentence to French.\"),\n",
    "    (\"human\", \"I love programming.\"),\n",
    "]\n",
    "llm.invoke(messages)"
   ]
  }
 ],
 "metadata": {
  "kernelspec": {
   "display_name": ".venv",
   "language": "python",
   "name": "python3"
  },
  "language_info": {
   "codemirror_mode": {
    "name": "ipython",
    "version": 3
   },
   "file_extension": ".py",
   "mimetype": "text/x-python",
   "name": "python",
   "nbconvert_exporter": "python",
   "pygments_lexer": "ipython3",
   "version": "3.11.9"
  }
 },
 "nbformat": 4,
 "nbformat_minor": 5
}
